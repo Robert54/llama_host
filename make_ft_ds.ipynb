{
 "cells": [
  {
   "cell_type": "code",
   "execution_count": null,
   "metadata": {
    "vscode": {
     "languageId": "plaintext"
    }
   },
   "outputs": [],
   "source": [
    "source ~/unsloth_env/bin/activate\n",
    "python finetune_qlora.py \\\n",
    "  --base_model ./Llama-4-Scout-17B-16E \\\n",
    "  --dataset    data/ft_mix_10k.jsonl \\\n",
    "  --save_path  scout_4bit_lora \\\n",
    "  --batch_size 2 \\\n",
    "  --epochs     1 \\\n",
    "  --lr         1e-4 \\\n",
    "  --max_seq_length 512"
   ]
  },
  {
   "cell_type": "code",
   "execution_count": null,
   "metadata": {
    "vscode": {
     "languageId": "plaintext"
    }
   },
   "outputs": [],
   "source": [
    "torchrun --standalone --nproc_per_node=8 finetune_qlora.py \\\n",
    "  --base_model ./Llama-4-Scout-17B-16E \\\n",
    "  --dataset    data/ft_mix_10k.jsonl \\\n",
    "  --save_path  scout_4bit_lora \\\n",
    "  --batch_size 2 \\\n",
    "  --epochs     1 \\\n",
    "  --lr         1e-4 \\\n",
    "  --max_seq_length 512"
   ]
  }
 ],
 "metadata": {
  "language_info": {
   "name": "python"
  }
 },
 "nbformat": 4,
 "nbformat_minor": 2
}
